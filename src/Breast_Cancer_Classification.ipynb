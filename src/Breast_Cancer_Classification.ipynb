{
  "cells": [
    {
      "cell_type": "markdown",
      "metadata": {
        "id": "l9eMahhJ-fYI"
      },
      "source": [
        "# **Breast Cancer Classification using Principal Component Analysis (PCA) and Support Vector Machines (SVM)**\n",
        "\n",
        "In this Jupyter Notebook, we use of Principal Component Analysis (PCA) for dimensionality reduction and Support Vector Machines (SVM) for classification on a breast cancer dataset. We will apply PCA to extract the most important features and visualize the cumulative variance, utilizing SVM to classify the dataset. Finally, we will visualize the decision boundaries of the SVM in a reduced two-dimensional PCA space.\n",
        "\n",
        "***\n",
        "\n",
        "## **1. Importing Libraries**"
      ]
    },
    {
      "cell_type": "code",
      "execution_count": 1,
      "metadata": {},
      "outputs": [],
      "source": [
        "import random\n",
        "import numpy as np\n",
        "import pandas as pd\n",
        "import seaborn as sns\n",
        "import matplotlib.pyplot as plt\n",
        "from sklearn.datasets import load_breast_cancer\n",
        "from sklearn.preprocessing import StandardScaler\n",
        "from sklearn.decomposition import PCA\n",
        "from sklearn.svm import SVC\n",
        "from sklearn.model_selection import train_test_split\n",
        "from sklearn.metrics import accuracy_score, classification_report\n",
        "import plotly.express as px\n",
        "import plotly.graph_objects as go"
      ]
    },
    {
      "cell_type": "markdown",
      "metadata": {},
      "source": [
        "***\n",
        "\n",
        "## **2. Loading the Dataset**"
      ]
    },
    {
      "cell_type": "code",
      "execution_count": 2,
      "metadata": {},
      "outputs": [
        {
          "data": {
            "text/html": [
              "<div>\n",
              "<style scoped>\n",
              "    .dataframe tbody tr th:only-of-type {\n",
              "        vertical-align: middle;\n",
              "    }\n",
              "\n",
              "    .dataframe tbody tr th {\n",
              "        vertical-align: top;\n",
              "    }\n",
              "\n",
              "    .dataframe thead th {\n",
              "        text-align: right;\n",
              "    }\n",
              "</style>\n",
              "<table border=\"1\" class=\"dataframe\">\n",
              "  <thead>\n",
              "    <tr style=\"text-align: right;\">\n",
              "      <th></th>\n",
              "      <th>mean radius</th>\n",
              "      <th>mean texture</th>\n",
              "      <th>mean perimeter</th>\n",
              "      <th>mean area</th>\n",
              "      <th>mean smoothness</th>\n",
              "      <th>mean compactness</th>\n",
              "      <th>mean concavity</th>\n",
              "      <th>mean concave points</th>\n",
              "      <th>mean symmetry</th>\n",
              "      <th>mean fractal dimension</th>\n",
              "      <th>...</th>\n",
              "      <th>worst radius</th>\n",
              "      <th>worst texture</th>\n",
              "      <th>worst perimeter</th>\n",
              "      <th>worst area</th>\n",
              "      <th>worst smoothness</th>\n",
              "      <th>worst compactness</th>\n",
              "      <th>worst concavity</th>\n",
              "      <th>worst concave points</th>\n",
              "      <th>worst symmetry</th>\n",
              "      <th>worst fractal dimension</th>\n",
              "    </tr>\n",
              "  </thead>\n",
              "  <tbody>\n",
              "    <tr>\n",
              "      <th>443</th>\n",
              "      <td>10.57</td>\n",
              "      <td>18.32</td>\n",
              "      <td>66.82</td>\n",
              "      <td>340.9</td>\n",
              "      <td>0.08142</td>\n",
              "      <td>0.04462</td>\n",
              "      <td>0.01993</td>\n",
              "      <td>0.01111</td>\n",
              "      <td>0.2372</td>\n",
              "      <td>0.05768</td>\n",
              "      <td>...</td>\n",
              "      <td>10.94</td>\n",
              "      <td>23.31</td>\n",
              "      <td>69.35</td>\n",
              "      <td>366.3</td>\n",
              "      <td>0.09794</td>\n",
              "      <td>0.06542</td>\n",
              "      <td>0.03986</td>\n",
              "      <td>0.02222</td>\n",
              "      <td>0.2699</td>\n",
              "      <td>0.06736</td>\n",
              "    </tr>\n",
              "    <tr>\n",
              "      <th>281</th>\n",
              "      <td>11.74</td>\n",
              "      <td>14.02</td>\n",
              "      <td>74.24</td>\n",
              "      <td>427.3</td>\n",
              "      <td>0.07813</td>\n",
              "      <td>0.04340</td>\n",
              "      <td>0.02245</td>\n",
              "      <td>0.02763</td>\n",
              "      <td>0.2101</td>\n",
              "      <td>0.06113</td>\n",
              "      <td>...</td>\n",
              "      <td>13.31</td>\n",
              "      <td>18.26</td>\n",
              "      <td>84.70</td>\n",
              "      <td>533.7</td>\n",
              "      <td>0.10360</td>\n",
              "      <td>0.08500</td>\n",
              "      <td>0.06735</td>\n",
              "      <td>0.08290</td>\n",
              "      <td>0.3101</td>\n",
              "      <td>0.06688</td>\n",
              "    </tr>\n",
              "    <tr>\n",
              "      <th>383</th>\n",
              "      <td>12.39</td>\n",
              "      <td>17.48</td>\n",
              "      <td>80.64</td>\n",
              "      <td>462.9</td>\n",
              "      <td>0.10420</td>\n",
              "      <td>0.12970</td>\n",
              "      <td>0.05892</td>\n",
              "      <td>0.02880</td>\n",
              "      <td>0.1779</td>\n",
              "      <td>0.06588</td>\n",
              "      <td>...</td>\n",
              "      <td>14.18</td>\n",
              "      <td>23.13</td>\n",
              "      <td>95.23</td>\n",
              "      <td>600.5</td>\n",
              "      <td>0.14270</td>\n",
              "      <td>0.35930</td>\n",
              "      <td>0.32060</td>\n",
              "      <td>0.09804</td>\n",
              "      <td>0.2819</td>\n",
              "      <td>0.11180</td>\n",
              "    </tr>\n",
              "    <tr>\n",
              "      <th>182</th>\n",
              "      <td>15.70</td>\n",
              "      <td>20.31</td>\n",
              "      <td>101.20</td>\n",
              "      <td>766.6</td>\n",
              "      <td>0.09597</td>\n",
              "      <td>0.08799</td>\n",
              "      <td>0.06593</td>\n",
              "      <td>0.05189</td>\n",
              "      <td>0.1618</td>\n",
              "      <td>0.05549</td>\n",
              "      <td>...</td>\n",
              "      <td>20.11</td>\n",
              "      <td>32.82</td>\n",
              "      <td>129.30</td>\n",
              "      <td>1269.0</td>\n",
              "      <td>0.14140</td>\n",
              "      <td>0.35470</td>\n",
              "      <td>0.29020</td>\n",
              "      <td>0.15410</td>\n",
              "      <td>0.3437</td>\n",
              "      <td>0.08631</td>\n",
              "    </tr>\n",
              "    <tr>\n",
              "      <th>67</th>\n",
              "      <td>11.31</td>\n",
              "      <td>19.04</td>\n",
              "      <td>71.80</td>\n",
              "      <td>394.1</td>\n",
              "      <td>0.08139</td>\n",
              "      <td>0.04701</td>\n",
              "      <td>0.03709</td>\n",
              "      <td>0.02230</td>\n",
              "      <td>0.1516</td>\n",
              "      <td>0.05667</td>\n",
              "      <td>...</td>\n",
              "      <td>12.33</td>\n",
              "      <td>23.84</td>\n",
              "      <td>78.00</td>\n",
              "      <td>466.7</td>\n",
              "      <td>0.12900</td>\n",
              "      <td>0.09148</td>\n",
              "      <td>0.14440</td>\n",
              "      <td>0.06961</td>\n",
              "      <td>0.2400</td>\n",
              "      <td>0.06641</td>\n",
              "    </tr>\n",
              "  </tbody>\n",
              "</table>\n",
              "<p>5 rows × 30 columns</p>\n",
              "</div>"
            ],
            "text/plain": [
              "     mean radius  mean texture  mean perimeter  mean area  mean smoothness  \\\n",
              "443        10.57         18.32           66.82      340.9          0.08142   \n",
              "281        11.74         14.02           74.24      427.3          0.07813   \n",
              "383        12.39         17.48           80.64      462.9          0.10420   \n",
              "182        15.70         20.31          101.20      766.6          0.09597   \n",
              "67         11.31         19.04           71.80      394.1          0.08139   \n",
              "\n",
              "     mean compactness  mean concavity  mean concave points  mean symmetry  \\\n",
              "443           0.04462         0.01993              0.01111         0.2372   \n",
              "281           0.04340         0.02245              0.02763         0.2101   \n",
              "383           0.12970         0.05892              0.02880         0.1779   \n",
              "182           0.08799         0.06593              0.05189         0.1618   \n",
              "67            0.04701         0.03709              0.02230         0.1516   \n",
              "\n",
              "     mean fractal dimension  ...  worst radius  worst texture  \\\n",
              "443                 0.05768  ...         10.94          23.31   \n",
              "281                 0.06113  ...         13.31          18.26   \n",
              "383                 0.06588  ...         14.18          23.13   \n",
              "182                 0.05549  ...         20.11          32.82   \n",
              "67                  0.05667  ...         12.33          23.84   \n",
              "\n",
              "     worst perimeter  worst area  worst smoothness  worst compactness  \\\n",
              "443            69.35       366.3           0.09794            0.06542   \n",
              "281            84.70       533.7           0.10360            0.08500   \n",
              "383            95.23       600.5           0.14270            0.35930   \n",
              "182           129.30      1269.0           0.14140            0.35470   \n",
              "67             78.00       466.7           0.12900            0.09148   \n",
              "\n",
              "     worst concavity  worst concave points  worst symmetry  \\\n",
              "443          0.03986               0.02222          0.2699   \n",
              "281          0.06735               0.08290          0.3101   \n",
              "383          0.32060               0.09804          0.2819   \n",
              "182          0.29020               0.15410          0.3437   \n",
              "67           0.14440               0.06961          0.2400   \n",
              "\n",
              "     worst fractal dimension  \n",
              "443                  0.06736  \n",
              "281                  0.06688  \n",
              "383                  0.11180  \n",
              "182                  0.08631  \n",
              "67                   0.06641  \n",
              "\n",
              "[5 rows x 30 columns]"
            ]
          },
          "execution_count": 2,
          "metadata": {},
          "output_type": "execute_result"
        }
      ],
      "source": [
        "# Load the dataset\n",
        "data = load_breast_cancer()\n",
        "dfCancer = pd.DataFrame(data.data, columns=data.feature_names)\n",
        "y = data.target\n",
        "\n",
        "# Display a sample of the data\n",
        "dfCancer.sample(5)"
      ]
    },
    {
      "cell_type": "markdown",
      "metadata": {},
      "source": [
        "***\n",
        "\n",
        "## **3. Data Preprocessing**\n",
        "\n",
        "### *3.1 ~ Normalizing the Data*"
      ]
    },
    {
      "cell_type": "code",
      "execution_count": 3,
      "metadata": {},
      "outputs": [],
      "source": [
        "# Normalize the data using StandardScaler\n",
        "scaler = StandardScaler()\n",
        "X_scaled = scaler.fit_transform(dfCancer)"
      ]
    },
    {
      "cell_type": "markdown",
      "metadata": {},
      "source": [
        "***\n",
        "\n",
        "## **4. Applying Principal Component Analysis (PCA)**\n",
        "\n",
        "### *4.1 ~ PCA for 90% Variance Explained*"
      ]
    },
    {
      "cell_type": "code",
      "execution_count": 4,
      "metadata": {},
      "outputs": [],
      "source": [
        "# Perform PCA to explain 90% of the variance\n",
        "pca = PCA(n_components=0.9)\n",
        "X_pca = pca.fit_transform(X_scaled)\n",
        "\n",
        "# Calculate the cumulative explained variance\n",
        "cumulative_var = np.cumsum(pca.explained_variance_ratio_)"
      ]
    },
    {
      "cell_type": "markdown",
      "metadata": {},
      "source": [
        "### *4.2 ~ Visualizing Cumulative Explained Variance*"
      ]
    },
    {
      "cell_type": "code",
      "execution_count": 5,
      "metadata": {},
      "outputs": [
        {
          "data": {
            "application/vnd.plotly.v1+json": {
              "config": {
                "plotlyServerURL": "https://plot.ly"
              },
              "data": [
                {
                  "hovertemplate": "Number of Components=%{x}<br>Cumulative Explained Variance=%{y}<extra></extra>",
                  "legendgroup": "",
                  "line": {
                    "color": "#636efa",
                    "dash": "solid"
                  },
                  "marker": {
                    "symbol": "circle"
                  },
                  "mode": "lines",
                  "name": "",
                  "orientation": "v",
                  "showlegend": false,
                  "type": "scatter",
                  "x": [
                    1,
                    2,
                    3,
                    4,
                    5,
                    6,
                    7
                  ],
                  "xaxis": "x",
                  "y": [
                    0.44272025607526394,
                    0.6324320765155943,
                    0.726363709089908,
                    0.7923850582446096,
                    0.8473427431680722,
                    0.8875879635669057,
                    0.9100953006967308
                  ],
                  "yaxis": "y"
                }
              ],
              "layout": {
                "legend": {
                  "tracegroupgap": 0
                },
                "template": {
                  "data": {
                    "bar": [
                      {
                        "error_x": {
                          "color": "#2a3f5f"
                        },
                        "error_y": {
                          "color": "#2a3f5f"
                        },
                        "marker": {
                          "line": {
                            "color": "#E5ECF6",
                            "width": 0.5
                          },
                          "pattern": {
                            "fillmode": "overlay",
                            "size": 10,
                            "solidity": 0.2
                          }
                        },
                        "type": "bar"
                      }
                    ],
                    "barpolar": [
                      {
                        "marker": {
                          "line": {
                            "color": "#E5ECF6",
                            "width": 0.5
                          },
                          "pattern": {
                            "fillmode": "overlay",
                            "size": 10,
                            "solidity": 0.2
                          }
                        },
                        "type": "barpolar"
                      }
                    ],
                    "carpet": [
                      {
                        "aaxis": {
                          "endlinecolor": "#2a3f5f",
                          "gridcolor": "white",
                          "linecolor": "white",
                          "minorgridcolor": "white",
                          "startlinecolor": "#2a3f5f"
                        },
                        "baxis": {
                          "endlinecolor": "#2a3f5f",
                          "gridcolor": "white",
                          "linecolor": "white",
                          "minorgridcolor": "white",
                          "startlinecolor": "#2a3f5f"
                        },
                        "type": "carpet"
                      }
                    ],
                    "choropleth": [
                      {
                        "colorbar": {
                          "outlinewidth": 0,
                          "ticks": ""
                        },
                        "type": "choropleth"
                      }
                    ],
                    "contour": [
                      {
                        "colorbar": {
                          "outlinewidth": 0,
                          "ticks": ""
                        },
                        "colorscale": [
                          [
                            0,
                            "#0d0887"
                          ],
                          [
                            0.1111111111111111,
                            "#46039f"
                          ],
                          [
                            0.2222222222222222,
                            "#7201a8"
                          ],
                          [
                            0.3333333333333333,
                            "#9c179e"
                          ],
                          [
                            0.4444444444444444,
                            "#bd3786"
                          ],
                          [
                            0.5555555555555556,
                            "#d8576b"
                          ],
                          [
                            0.6666666666666666,
                            "#ed7953"
                          ],
                          [
                            0.7777777777777778,
                            "#fb9f3a"
                          ],
                          [
                            0.8888888888888888,
                            "#fdca26"
                          ],
                          [
                            1,
                            "#f0f921"
                          ]
                        ],
                        "type": "contour"
                      }
                    ],
                    "contourcarpet": [
                      {
                        "colorbar": {
                          "outlinewidth": 0,
                          "ticks": ""
                        },
                        "type": "contourcarpet"
                      }
                    ],
                    "heatmap": [
                      {
                        "colorbar": {
                          "outlinewidth": 0,
                          "ticks": ""
                        },
                        "colorscale": [
                          [
                            0,
                            "#0d0887"
                          ],
                          [
                            0.1111111111111111,
                            "#46039f"
                          ],
                          [
                            0.2222222222222222,
                            "#7201a8"
                          ],
                          [
                            0.3333333333333333,
                            "#9c179e"
                          ],
                          [
                            0.4444444444444444,
                            "#bd3786"
                          ],
                          [
                            0.5555555555555556,
                            "#d8576b"
                          ],
                          [
                            0.6666666666666666,
                            "#ed7953"
                          ],
                          [
                            0.7777777777777778,
                            "#fb9f3a"
                          ],
                          [
                            0.8888888888888888,
                            "#fdca26"
                          ],
                          [
                            1,
                            "#f0f921"
                          ]
                        ],
                        "type": "heatmap"
                      }
                    ],
                    "heatmapgl": [
                      {
                        "colorbar": {
                          "outlinewidth": 0,
                          "ticks": ""
                        },
                        "colorscale": [
                          [
                            0,
                            "#0d0887"
                          ],
                          [
                            0.1111111111111111,
                            "#46039f"
                          ],
                          [
                            0.2222222222222222,
                            "#7201a8"
                          ],
                          [
                            0.3333333333333333,
                            "#9c179e"
                          ],
                          [
                            0.4444444444444444,
                            "#bd3786"
                          ],
                          [
                            0.5555555555555556,
                            "#d8576b"
                          ],
                          [
                            0.6666666666666666,
                            "#ed7953"
                          ],
                          [
                            0.7777777777777778,
                            "#fb9f3a"
                          ],
                          [
                            0.8888888888888888,
                            "#fdca26"
                          ],
                          [
                            1,
                            "#f0f921"
                          ]
                        ],
                        "type": "heatmapgl"
                      }
                    ],
                    "histogram": [
                      {
                        "marker": {
                          "pattern": {
                            "fillmode": "overlay",
                            "size": 10,
                            "solidity": 0.2
                          }
                        },
                        "type": "histogram"
                      }
                    ],
                    "histogram2d": [
                      {
                        "colorbar": {
                          "outlinewidth": 0,
                          "ticks": ""
                        },
                        "colorscale": [
                          [
                            0,
                            "#0d0887"
                          ],
                          [
                            0.1111111111111111,
                            "#46039f"
                          ],
                          [
                            0.2222222222222222,
                            "#7201a8"
                          ],
                          [
                            0.3333333333333333,
                            "#9c179e"
                          ],
                          [
                            0.4444444444444444,
                            "#bd3786"
                          ],
                          [
                            0.5555555555555556,
                            "#d8576b"
                          ],
                          [
                            0.6666666666666666,
                            "#ed7953"
                          ],
                          [
                            0.7777777777777778,
                            "#fb9f3a"
                          ],
                          [
                            0.8888888888888888,
                            "#fdca26"
                          ],
                          [
                            1,
                            "#f0f921"
                          ]
                        ],
                        "type": "histogram2d"
                      }
                    ],
                    "histogram2dcontour": [
                      {
                        "colorbar": {
                          "outlinewidth": 0,
                          "ticks": ""
                        },
                        "colorscale": [
                          [
                            0,
                            "#0d0887"
                          ],
                          [
                            0.1111111111111111,
                            "#46039f"
                          ],
                          [
                            0.2222222222222222,
                            "#7201a8"
                          ],
                          [
                            0.3333333333333333,
                            "#9c179e"
                          ],
                          [
                            0.4444444444444444,
                            "#bd3786"
                          ],
                          [
                            0.5555555555555556,
                            "#d8576b"
                          ],
                          [
                            0.6666666666666666,
                            "#ed7953"
                          ],
                          [
                            0.7777777777777778,
                            "#fb9f3a"
                          ],
                          [
                            0.8888888888888888,
                            "#fdca26"
                          ],
                          [
                            1,
                            "#f0f921"
                          ]
                        ],
                        "type": "histogram2dcontour"
                      }
                    ],
                    "mesh3d": [
                      {
                        "colorbar": {
                          "outlinewidth": 0,
                          "ticks": ""
                        },
                        "type": "mesh3d"
                      }
                    ],
                    "parcoords": [
                      {
                        "line": {
                          "colorbar": {
                            "outlinewidth": 0,
                            "ticks": ""
                          }
                        },
                        "type": "parcoords"
                      }
                    ],
                    "pie": [
                      {
                        "automargin": true,
                        "type": "pie"
                      }
                    ],
                    "scatter": [
                      {
                        "fillpattern": {
                          "fillmode": "overlay",
                          "size": 10,
                          "solidity": 0.2
                        },
                        "type": "scatter"
                      }
                    ],
                    "scatter3d": [
                      {
                        "line": {
                          "colorbar": {
                            "outlinewidth": 0,
                            "ticks": ""
                          }
                        },
                        "marker": {
                          "colorbar": {
                            "outlinewidth": 0,
                            "ticks": ""
                          }
                        },
                        "type": "scatter3d"
                      }
                    ],
                    "scattercarpet": [
                      {
                        "marker": {
                          "colorbar": {
                            "outlinewidth": 0,
                            "ticks": ""
                          }
                        },
                        "type": "scattercarpet"
                      }
                    ],
                    "scattergeo": [
                      {
                        "marker": {
                          "colorbar": {
                            "outlinewidth": 0,
                            "ticks": ""
                          }
                        },
                        "type": "scattergeo"
                      }
                    ],
                    "scattergl": [
                      {
                        "marker": {
                          "colorbar": {
                            "outlinewidth": 0,
                            "ticks": ""
                          }
                        },
                        "type": "scattergl"
                      }
                    ],
                    "scattermapbox": [
                      {
                        "marker": {
                          "colorbar": {
                            "outlinewidth": 0,
                            "ticks": ""
                          }
                        },
                        "type": "scattermapbox"
                      }
                    ],
                    "scatterpolar": [
                      {
                        "marker": {
                          "colorbar": {
                            "outlinewidth": 0,
                            "ticks": ""
                          }
                        },
                        "type": "scatterpolar"
                      }
                    ],
                    "scatterpolargl": [
                      {
                        "marker": {
                          "colorbar": {
                            "outlinewidth": 0,
                            "ticks": ""
                          }
                        },
                        "type": "scatterpolargl"
                      }
                    ],
                    "scatterternary": [
                      {
                        "marker": {
                          "colorbar": {
                            "outlinewidth": 0,
                            "ticks": ""
                          }
                        },
                        "type": "scatterternary"
                      }
                    ],
                    "surface": [
                      {
                        "colorbar": {
                          "outlinewidth": 0,
                          "ticks": ""
                        },
                        "colorscale": [
                          [
                            0,
                            "#0d0887"
                          ],
                          [
                            0.1111111111111111,
                            "#46039f"
                          ],
                          [
                            0.2222222222222222,
                            "#7201a8"
                          ],
                          [
                            0.3333333333333333,
                            "#9c179e"
                          ],
                          [
                            0.4444444444444444,
                            "#bd3786"
                          ],
                          [
                            0.5555555555555556,
                            "#d8576b"
                          ],
                          [
                            0.6666666666666666,
                            "#ed7953"
                          ],
                          [
                            0.7777777777777778,
                            "#fb9f3a"
                          ],
                          [
                            0.8888888888888888,
                            "#fdca26"
                          ],
                          [
                            1,
                            "#f0f921"
                          ]
                        ],
                        "type": "surface"
                      }
                    ],
                    "table": [
                      {
                        "cells": {
                          "fill": {
                            "color": "#EBF0F8"
                          },
                          "line": {
                            "color": "white"
                          }
                        },
                        "header": {
                          "fill": {
                            "color": "#C8D4E3"
                          },
                          "line": {
                            "color": "white"
                          }
                        },
                        "type": "table"
                      }
                    ]
                  },
                  "layout": {
                    "annotationdefaults": {
                      "arrowcolor": "#2a3f5f",
                      "arrowhead": 0,
                      "arrowwidth": 1
                    },
                    "autotypenumbers": "strict",
                    "coloraxis": {
                      "colorbar": {
                        "outlinewidth": 0,
                        "ticks": ""
                      }
                    },
                    "colorscale": {
                      "diverging": [
                        [
                          0,
                          "#8e0152"
                        ],
                        [
                          0.1,
                          "#c51b7d"
                        ],
                        [
                          0.2,
                          "#de77ae"
                        ],
                        [
                          0.3,
                          "#f1b6da"
                        ],
                        [
                          0.4,
                          "#fde0ef"
                        ],
                        [
                          0.5,
                          "#f7f7f7"
                        ],
                        [
                          0.6,
                          "#e6f5d0"
                        ],
                        [
                          0.7,
                          "#b8e186"
                        ],
                        [
                          0.8,
                          "#7fbc41"
                        ],
                        [
                          0.9,
                          "#4d9221"
                        ],
                        [
                          1,
                          "#276419"
                        ]
                      ],
                      "sequential": [
                        [
                          0,
                          "#0d0887"
                        ],
                        [
                          0.1111111111111111,
                          "#46039f"
                        ],
                        [
                          0.2222222222222222,
                          "#7201a8"
                        ],
                        [
                          0.3333333333333333,
                          "#9c179e"
                        ],
                        [
                          0.4444444444444444,
                          "#bd3786"
                        ],
                        [
                          0.5555555555555556,
                          "#d8576b"
                        ],
                        [
                          0.6666666666666666,
                          "#ed7953"
                        ],
                        [
                          0.7777777777777778,
                          "#fb9f3a"
                        ],
                        [
                          0.8888888888888888,
                          "#fdca26"
                        ],
                        [
                          1,
                          "#f0f921"
                        ]
                      ],
                      "sequentialminus": [
                        [
                          0,
                          "#0d0887"
                        ],
                        [
                          0.1111111111111111,
                          "#46039f"
                        ],
                        [
                          0.2222222222222222,
                          "#7201a8"
                        ],
                        [
                          0.3333333333333333,
                          "#9c179e"
                        ],
                        [
                          0.4444444444444444,
                          "#bd3786"
                        ],
                        [
                          0.5555555555555556,
                          "#d8576b"
                        ],
                        [
                          0.6666666666666666,
                          "#ed7953"
                        ],
                        [
                          0.7777777777777778,
                          "#fb9f3a"
                        ],
                        [
                          0.8888888888888888,
                          "#fdca26"
                        ],
                        [
                          1,
                          "#f0f921"
                        ]
                      ]
                    },
                    "colorway": [
                      "#636efa",
                      "#EF553B",
                      "#00cc96",
                      "#ab63fa",
                      "#FFA15A",
                      "#19d3f3",
                      "#FF6692",
                      "#B6E880",
                      "#FF97FF",
                      "#FECB52"
                    ],
                    "font": {
                      "color": "#2a3f5f"
                    },
                    "geo": {
                      "bgcolor": "white",
                      "lakecolor": "white",
                      "landcolor": "#E5ECF6",
                      "showlakes": true,
                      "showland": true,
                      "subunitcolor": "white"
                    },
                    "hoverlabel": {
                      "align": "left"
                    },
                    "hovermode": "closest",
                    "mapbox": {
                      "style": "light"
                    },
                    "paper_bgcolor": "white",
                    "plot_bgcolor": "#E5ECF6",
                    "polar": {
                      "angularaxis": {
                        "gridcolor": "white",
                        "linecolor": "white",
                        "ticks": ""
                      },
                      "bgcolor": "#E5ECF6",
                      "radialaxis": {
                        "gridcolor": "white",
                        "linecolor": "white",
                        "ticks": ""
                      }
                    },
                    "scene": {
                      "xaxis": {
                        "backgroundcolor": "#E5ECF6",
                        "gridcolor": "white",
                        "gridwidth": 2,
                        "linecolor": "white",
                        "showbackground": true,
                        "ticks": "",
                        "zerolinecolor": "white"
                      },
                      "yaxis": {
                        "backgroundcolor": "#E5ECF6",
                        "gridcolor": "white",
                        "gridwidth": 2,
                        "linecolor": "white",
                        "showbackground": true,
                        "ticks": "",
                        "zerolinecolor": "white"
                      },
                      "zaxis": {
                        "backgroundcolor": "#E5ECF6",
                        "gridcolor": "white",
                        "gridwidth": 2,
                        "linecolor": "white",
                        "showbackground": true,
                        "ticks": "",
                        "zerolinecolor": "white"
                      }
                    },
                    "shapedefaults": {
                      "line": {
                        "color": "#2a3f5f"
                      }
                    },
                    "ternary": {
                      "aaxis": {
                        "gridcolor": "white",
                        "linecolor": "white",
                        "ticks": ""
                      },
                      "baxis": {
                        "gridcolor": "white",
                        "linecolor": "white",
                        "ticks": ""
                      },
                      "bgcolor": "#E5ECF6",
                      "caxis": {
                        "gridcolor": "white",
                        "linecolor": "white",
                        "ticks": ""
                      }
                    },
                    "title": {
                      "x": 0.05
                    },
                    "xaxis": {
                      "automargin": true,
                      "gridcolor": "white",
                      "linecolor": "white",
                      "ticks": "",
                      "title": {
                        "standoff": 15
                      },
                      "zerolinecolor": "white",
                      "zerolinewidth": 2
                    },
                    "yaxis": {
                      "automargin": true,
                      "gridcolor": "white",
                      "linecolor": "white",
                      "ticks": "",
                      "title": {
                        "standoff": 15
                      },
                      "zerolinecolor": "white",
                      "zerolinewidth": 2
                    }
                  }
                },
                "title": {
                  "text": "Cumulative Variance Explained by PCA Components"
                },
                "xaxis": {
                  "anchor": "y",
                  "domain": [
                    0,
                    1
                  ],
                  "title": {
                    "text": "Number of Components"
                  }
                },
                "yaxis": {
                  "anchor": "x",
                  "domain": [
                    0,
                    1
                  ],
                  "title": {
                    "text": "Cumulative Explained Variance"
                  }
                }
              }
            }
          },
          "metadata": {},
          "output_type": "display_data"
        }
      ],
      "source": [
        "# Line plot for cumulative variance\n",
        "fig = px.line(x=range(1, len(cumulative_var)+1), y=cumulative_var,\n",
        "              labels={'x': 'Number of Components', 'y': 'Cumulative Explained Variance'},\n",
        "              title='Cumulative Variance Explained by PCA Components')\n",
        "fig.show()"
      ]
    },
    {
      "cell_type": "markdown",
      "metadata": {},
      "source": [
        "### *4.3 ~ Feature Contributions to Principal Components*"
      ]
    },
    {
      "cell_type": "code",
      "execution_count": 6,
      "metadata": {},
      "outputs": [
        {
          "data": {
            "text/html": [
              "<div>\n",
              "<style scoped>\n",
              "    .dataframe tbody tr th:only-of-type {\n",
              "        vertical-align: middle;\n",
              "    }\n",
              "\n",
              "    .dataframe tbody tr th {\n",
              "        vertical-align: top;\n",
              "    }\n",
              "\n",
              "    .dataframe thead th {\n",
              "        text-align: right;\n",
              "    }\n",
              "</style>\n",
              "<table border=\"1\" class=\"dataframe\">\n",
              "  <thead>\n",
              "    <tr style=\"text-align: right;\">\n",
              "      <th></th>\n",
              "      <th>feature</th>\n",
              "      <th>contribution</th>\n",
              "    </tr>\n",
              "  </thead>\n",
              "  <tbody>\n",
              "    <tr>\n",
              "      <th>0</th>\n",
              "      <td>mean radius</td>\n",
              "      <td>0.218902</td>\n",
              "    </tr>\n",
              "    <tr>\n",
              "      <th>1</th>\n",
              "      <td>mean texture</td>\n",
              "      <td>0.103725</td>\n",
              "    </tr>\n",
              "    <tr>\n",
              "      <th>2</th>\n",
              "      <td>mean perimeter</td>\n",
              "      <td>0.227537</td>\n",
              "    </tr>\n",
              "    <tr>\n",
              "      <th>3</th>\n",
              "      <td>mean area</td>\n",
              "      <td>0.220995</td>\n",
              "    </tr>\n",
              "    <tr>\n",
              "      <th>4</th>\n",
              "      <td>mean smoothness</td>\n",
              "      <td>0.142590</td>\n",
              "    </tr>\n",
              "    <tr>\n",
              "      <th>5</th>\n",
              "      <td>mean compactness</td>\n",
              "      <td>0.239285</td>\n",
              "    </tr>\n",
              "    <tr>\n",
              "      <th>6</th>\n",
              "      <td>mean concavity</td>\n",
              "      <td>0.258400</td>\n",
              "    </tr>\n",
              "    <tr>\n",
              "      <th>7</th>\n",
              "      <td>mean concave points</td>\n",
              "      <td>0.260854</td>\n",
              "    </tr>\n",
              "    <tr>\n",
              "      <th>8</th>\n",
              "      <td>mean symmetry</td>\n",
              "      <td>0.138167</td>\n",
              "    </tr>\n",
              "    <tr>\n",
              "      <th>9</th>\n",
              "      <td>mean fractal dimension</td>\n",
              "      <td>0.064363</td>\n",
              "    </tr>\n",
              "    <tr>\n",
              "      <th>10</th>\n",
              "      <td>radius error</td>\n",
              "      <td>0.205979</td>\n",
              "    </tr>\n",
              "    <tr>\n",
              "      <th>11</th>\n",
              "      <td>texture error</td>\n",
              "      <td>0.017428</td>\n",
              "    </tr>\n",
              "    <tr>\n",
              "      <th>12</th>\n",
              "      <td>perimeter error</td>\n",
              "      <td>0.211326</td>\n",
              "    </tr>\n",
              "    <tr>\n",
              "      <th>13</th>\n",
              "      <td>area error</td>\n",
              "      <td>0.202870</td>\n",
              "    </tr>\n",
              "    <tr>\n",
              "      <th>14</th>\n",
              "      <td>smoothness error</td>\n",
              "      <td>0.014531</td>\n",
              "    </tr>\n",
              "    <tr>\n",
              "      <th>15</th>\n",
              "      <td>compactness error</td>\n",
              "      <td>0.170393</td>\n",
              "    </tr>\n",
              "    <tr>\n",
              "      <th>16</th>\n",
              "      <td>concavity error</td>\n",
              "      <td>0.153590</td>\n",
              "    </tr>\n",
              "    <tr>\n",
              "      <th>17</th>\n",
              "      <td>concave points error</td>\n",
              "      <td>0.183417</td>\n",
              "    </tr>\n",
              "    <tr>\n",
              "      <th>18</th>\n",
              "      <td>symmetry error</td>\n",
              "      <td>0.042498</td>\n",
              "    </tr>\n",
              "    <tr>\n",
              "      <th>19</th>\n",
              "      <td>fractal dimension error</td>\n",
              "      <td>0.102568</td>\n",
              "    </tr>\n",
              "    <tr>\n",
              "      <th>20</th>\n",
              "      <td>worst radius</td>\n",
              "      <td>0.227997</td>\n",
              "    </tr>\n",
              "    <tr>\n",
              "      <th>21</th>\n",
              "      <td>worst texture</td>\n",
              "      <td>0.104469</td>\n",
              "    </tr>\n",
              "    <tr>\n",
              "      <th>22</th>\n",
              "      <td>worst perimeter</td>\n",
              "      <td>0.236640</td>\n",
              "    </tr>\n",
              "    <tr>\n",
              "      <th>23</th>\n",
              "      <td>worst area</td>\n",
              "      <td>0.224871</td>\n",
              "    </tr>\n",
              "    <tr>\n",
              "      <th>24</th>\n",
              "      <td>worst smoothness</td>\n",
              "      <td>0.127953</td>\n",
              "    </tr>\n",
              "    <tr>\n",
              "      <th>25</th>\n",
              "      <td>worst compactness</td>\n",
              "      <td>0.210096</td>\n",
              "    </tr>\n",
              "    <tr>\n",
              "      <th>26</th>\n",
              "      <td>worst concavity</td>\n",
              "      <td>0.228768</td>\n",
              "    </tr>\n",
              "    <tr>\n",
              "      <th>27</th>\n",
              "      <td>worst concave points</td>\n",
              "      <td>0.250886</td>\n",
              "    </tr>\n",
              "    <tr>\n",
              "      <th>28</th>\n",
              "      <td>worst symmetry</td>\n",
              "      <td>0.122905</td>\n",
              "    </tr>\n",
              "    <tr>\n",
              "      <th>29</th>\n",
              "      <td>worst fractal dimension</td>\n",
              "      <td>0.131784</td>\n",
              "    </tr>\n",
              "  </tbody>\n",
              "</table>\n",
              "</div>"
            ],
            "text/plain": [
              "                    feature  contribution\n",
              "0               mean radius      0.218902\n",
              "1              mean texture      0.103725\n",
              "2            mean perimeter      0.227537\n",
              "3                 mean area      0.220995\n",
              "4           mean smoothness      0.142590\n",
              "5          mean compactness      0.239285\n",
              "6            mean concavity      0.258400\n",
              "7       mean concave points      0.260854\n",
              "8             mean symmetry      0.138167\n",
              "9    mean fractal dimension      0.064363\n",
              "10             radius error      0.205979\n",
              "11            texture error      0.017428\n",
              "12          perimeter error      0.211326\n",
              "13               area error      0.202870\n",
              "14         smoothness error      0.014531\n",
              "15        compactness error      0.170393\n",
              "16          concavity error      0.153590\n",
              "17     concave points error      0.183417\n",
              "18           symmetry error      0.042498\n",
              "19  fractal dimension error      0.102568\n",
              "20             worst radius      0.227997\n",
              "21            worst texture      0.104469\n",
              "22          worst perimeter      0.236640\n",
              "23               worst area      0.224871\n",
              "24         worst smoothness      0.127953\n",
              "25        worst compactness      0.210096\n",
              "26          worst concavity      0.228768\n",
              "27     worst concave points      0.250886\n",
              "28           worst symmetry      0.122905\n",
              "29  worst fractal dimension      0.131784"
            ]
          },
          "execution_count": 6,
          "metadata": {},
          "output_type": "execute_result"
        }
      ],
      "source": [
        "# Get contributions of each feature to PC1\n",
        "contributions_pc1 = pca.components_[0]\n",
        "\n",
        "# Convert to DataFrame for visualization\n",
        "df_contributions = pd.DataFrame({'feature': data.feature_names, 'contribution': contributions_pc1})\n",
        "df_contributions"
      ]
    },
    {
      "cell_type": "markdown",
      "metadata": {},
      "source": [
        "### *4.4 Visualizing Feature Contributions*"
      ]
    },
    {
      "cell_type": "code",
      "execution_count": 7,
      "metadata": {},
      "outputs": [
        {
          "data": {
            "application/vnd.plotly.v1+json": {
              "config": {
                "plotlyServerURL": "https://plot.ly"
              },
              "data": [
                {
                  "name": "PC1",
                  "type": "bar",
                  "x": [
                    "mean radius",
                    "mean texture",
                    "mean perimeter",
                    "mean area",
                    "mean smoothness",
                    "mean compactness",
                    "mean concavity",
                    "mean concave points",
                    "mean symmetry",
                    "mean fractal dimension",
                    "radius error",
                    "texture error",
                    "perimeter error",
                    "area error",
                    "smoothness error",
                    "compactness error",
                    "concavity error",
                    "concave points error",
                    "symmetry error",
                    "fractal dimension error",
                    "worst radius",
                    "worst texture",
                    "worst perimeter",
                    "worst area",
                    "worst smoothness",
                    "worst compactness",
                    "worst concavity",
                    "worst concave points",
                    "worst symmetry",
                    "worst fractal dimension"
                  ],
                  "y": [
                    4.791827985783291,
                    1.075878812602604,
                    5.177321970832786,
                    4.883878356573184,
                    2.0331820937746192,
                    5.725748061641289,
                    6.677080870959672,
                    6.804468326396622,
                    1.9090108643216381,
                    0.4142640356173014,
                    4.242725610282862,
                    0.03037361651606097,
                    4.465864293194245,
                    4.115608898412846,
                    0.02111631015248902,
                    2.9033928214388744,
                    2.3589823512312957,
                    3.364194150909684,
                    0.18061158412995332,
                    1.0520260697501937,
                    5.198246522133578,
                    1.0913839961481124,
                    5.599833850150775,
                    5.0566756492165315,
                    1.6371857915812325,
                    4.414027885929203,
                    5.23345840702664,
                    6.294377055399771,
                    1.5105529978465366,
                    1.7367007600461055
                  ]
                },
                {
                  "name": "PC2",
                  "type": "bar",
                  "x": [
                    "mean radius",
                    "mean texture",
                    "mean perimeter",
                    "mean area",
                    "mean smoothness",
                    "mean compactness",
                    "mean concavity",
                    "mean concave points",
                    "mean symmetry",
                    "mean fractal dimension",
                    "radius error",
                    "texture error",
                    "perimeter error",
                    "area error",
                    "smoothness error",
                    "compactness error",
                    "concavity error",
                    "concave points error",
                    "symmetry error",
                    "fractal dimension error",
                    "worst radius",
                    "worst texture",
                    "worst perimeter",
                    "worst area",
                    "worst smoothness",
                    "worst compactness",
                    "worst concavity",
                    "worst concave points",
                    "worst symmetry",
                    "worst fractal dimension"
                  ],
                  "y": [
                    5.468915806913522,
                    0.356481697909986,
                    4.630301829256805,
                    5.339644649776711,
                    3.4638057207557376,
                    2.3071061210667034,
                    0.3619870880694546,
                    0.12087790905827242,
                    3.6232654382228002,
                    13.43775762161911,
                    1.1141256755063995,
                    0.8096343142078691,
                    0.8002596754489425,
                    2.3193044575230783,
                    4.17918101260641,
                    5.415668833955265,
                    3.8890712354357593,
                    1.6983708976679834,
                    3.380008708368015,
                    7.845154337183368,
                    4.834122474645217,
                    0.20672752119630503,
                    3.9951385956165555,
                    4.811523757411982,
                    2.9688789598125274,
                    2.061899941030123,
                    0.9596967697593124,
                    0.006818193099372293,
                    2.0130884610527398,
                    7.581182295823698
                  ]
                },
                {
                  "name": "PC3",
                  "type": "bar",
                  "x": [
                    "mean radius",
                    "mean texture",
                    "mean perimeter",
                    "mean area",
                    "mean smoothness",
                    "mean compactness",
                    "mean concavity",
                    "mean concave points",
                    "mean symmetry",
                    "mean fractal dimension",
                    "radius error",
                    "texture error",
                    "perimeter error",
                    "area error",
                    "smoothness error",
                    "compactness error",
                    "concavity error",
                    "concave points error",
                    "symmetry error",
                    "fractal dimension error",
                    "worst radius",
                    "worst texture",
                    "worst perimeter",
                    "worst area",
                    "worst smoothness",
                    "worst compactness",
                    "worst concavity",
                    "worst concave points",
                    "worst symmetry",
                    "worst fractal dimension"
                  ],
                  "y": [
                    0.007278210440176193,
                    0.41666900220781583,
                    0.00867546889459326,
                    0.0823662786169019,
                    1.0876801235484082,
                    0.5489560871749481,
                    0.0007473870081806786,
                    0.06534946083009749,
                    0.16192524736254685,
                    0.05095895257982182,
                    7.208225536349581,
                    14.035038303366646,
                    7.109975188288289,
                    4.66588203087323,
                    9.538151522480641,
                    2.3956761045102914,
                    3.1139452559121388,
                    5.047102257383444,
                    8.328089385256337,
                    4.473384239635454,
                    0.22569141025835293,
                    0.17891058118005274,
                    0.23567634716427846,
                    0.014166517831186068,
                    6.749479987584454,
                    5.573170087339281,
                    2.9948841331536316,
                    2.901710407474145,
                    7.361054967547208,
                    5.419179517747861
                  ]
                },
                {
                  "name": "PC4",
                  "type": "bar",
                  "x": [
                    "mean radius",
                    "mean texture",
                    "mean perimeter",
                    "mean area",
                    "mean smoothness",
                    "mean compactness",
                    "mean concavity",
                    "mean concave points",
                    "mean symmetry",
                    "mean fractal dimension",
                    "radius error",
                    "texture error",
                    "perimeter error",
                    "area error",
                    "smoothness error",
                    "compactness error",
                    "concavity error",
                    "concave points error",
                    "symmetry error",
                    "fractal dimension error",
                    "worst radius",
                    "worst texture",
                    "worst perimeter",
                    "worst area",
                    "worst smoothness",
                    "worst compactness",
                    "worst concavity",
                    "worst concave points",
                    "worst symmetry",
                    "worst fractal dimension"
                  ],
                  "y": [
                    0.17147021612363372,
                    36.36693031552799,
                    0.17625806114882756,
                    0.28551704970613573,
                    2.5402865781101447,
                    0.10108953889185462,
                    0.03656797001135813,
                    0.4268785622880444,
                    0.4505763474628997,
                    0.23606737246662668,
                    0.9592486849269928,
                    12.949600128143615,
                    0.7919649856643652,
                    1.1708330384064125,
                    0.19948889480729087,
                    0.07545659159216117,
                    0.00017341728442838109,
                    0.5485970112898063,
                    0.19424602675560482,
                    0.023423535918285953,
                    0.023769127758535617,
                    40.04458189846973,
                    0.019051713319679416,
                    0.06705380344931551,
                    0.03116007326804997,
                    0.8340879444099114,
                    0.5468776971987179,
                    0.00360839974780723,
                    0.13141128663665963,
                    0.593723729215098
                  ]
                },
                {
                  "name": "PC5",
                  "type": "bar",
                  "x": [
                    "mean radius",
                    "mean texture",
                    "mean perimeter",
                    "mean area",
                    "mean smoothness",
                    "mean compactness",
                    "mean concavity",
                    "mean concave points",
                    "mean symmetry",
                    "mean fractal dimension",
                    "radius error",
                    "texture error",
                    "perimeter error",
                    "area error",
                    "smoothness error",
                    "compactness error",
                    "concavity error",
                    "concave points error",
                    "symmetry error",
                    "fractal dimension error",
                    "worst radius",
                    "worst texture",
                    "worst perimeter",
                    "worst area",
                    "worst smoothness",
                    "worst compactness",
                    "worst concavity",
                    "worst concave points",
                    "worst symmetry",
                    "worst fractal dimension"
                  ],
                  "y": [
                    0.1427808532096048,
                    0.2447167167259121,
                    0.13968654496781643,
                    0.010673475538167682,
                    13.328963319865675,
                    0.01369829443539023,
                    0.74607117618258,
                    0.19237895350286252,
                    9.360015754775084,
                    0.19735237777113068,
                    2.385680907935958,
                    3.6729916275533654,
                    1.4638633419076623,
                    1.627523569687132,
                    5.3854478026730535,
                    7.83821681192941,
                    12.53033207200181,
                    3.823905492205289,
                    6.394261226400157,
                    6.932554068953174,
                    0.0019418053851720176,
                    0.8627326022335124,
                    0.0055564367064391725,
                    0.07502615693827074,
                    10.525835816701344,
                    1.483624039402289,
                    3.5539310371406847,
                    0.1877668180866471,
                    5.980893978205655,
                    0.891576920978762
                  ]
                },
                {
                  "name": "PC6",
                  "type": "bar",
                  "x": [
                    "mean radius",
                    "mean texture",
                    "mean perimeter",
                    "mean area",
                    "mean smoothness",
                    "mean compactness",
                    "mean concavity",
                    "mean concave points",
                    "mean symmetry",
                    "mean fractal dimension",
                    "radius error",
                    "texture error",
                    "perimeter error",
                    "area error",
                    "smoothness error",
                    "compactness error",
                    "concavity error",
                    "concave points error",
                    "symmetry error",
                    "fractal dimension error",
                    "worst radius",
                    "worst texture",
                    "worst perimeter",
                    "worst area",
                    "worst smoothness",
                    "worst compactness",
                    "worst concavity",
                    "worst concave points",
                    "worst symmetry",
                    "worst fractal dimension"
                  ],
                  "y": [
                    0.035121722599484526,
                    0.10354775231246142,
                    0.029958226515487244,
                    0.00035635923599894927,
                    8.201035231021141,
                    0.019968371604485894,
                    0.008731371648200828,
                    0.2709197343646791,
                    12.706263423447329,
                    1.426368442805517,
                    0.06555267212843677,
                    0.08264080917865355,
                    0.00032786888254168783,
                    0.18373146043253114,
                    11.759233876113678,
                    0.47882965737234423,
                    0.31745605339420113,
                    0.09749661627958744,
                    24.034079007749686,
                    0.2829736476669199,
                    0.00000844977222260899,
                    0.2500806190550143,
                    0.007226678255349679,
                    0.06332461248240169,
                    13.63495284992873,
                    0.22758426777263513,
                    0.08053821399609107,
                    0.09531699050445436,
                    24.892793625204707,
                    0.643581388275029
                  ]
                },
                {
                  "name": "PC7",
                  "type": "bar",
                  "x": [
                    "mean radius",
                    "mean texture",
                    "mean perimeter",
                    "mean area",
                    "mean smoothness",
                    "mean compactness",
                    "mean concavity",
                    "mean concave points",
                    "mean symmetry",
                    "mean fractal dimension",
                    "radius error",
                    "texture error",
                    "perimeter error",
                    "area error",
                    "smoothness error",
                    "compactness error",
                    "concavity error",
                    "concave points error",
                    "symmetry error",
                    "fractal dimension error",
                    "worst radius",
                    "worst texture",
                    "worst perimeter",
                    "worst area",
                    "worst smoothness",
                    "worst compactness",
                    "worst concavity",
                    "worst concave points",
                    "worst symmetry",
                    "worst fractal dimension"
                  ],
                  "y": [
                    1.5397916193146508,
                    0.012994947125593334,
                    1.3104996654944014,
                    0.2668076570904842,
                    1.9787765534469612,
                    0.09559533933777448,
                    1.1560645745044003,
                    2.2644896784929145,
                    0.8815545131774022,
                    8.747399178538846,
                    9.765002343971162,
                    0.8236534576957447,
                    9.899857512109586,
                    12.018633097112728,
                    5.9547739712503045,
                    0.05505374292950475,
                    4.3607375165163855,
                    13.663811863319635,
                    0.6461306748799777,
                    3.6632035523679307,
                    0.00942828574162902,
                    0.009743158465546619,
                    0.00001986723059754596,
                    0.4601134027314534,
                    1.184416184630338,
                    1.9732646332720274,
                    0.3658804927541536,
                    2.821278501328207,
                    0.03419033920613442,
                    14.03683367596355
                  ]
                }
              ],
              "layout": {
                "sliders": [
                  {
                    "active": 1,
                    "pad": {
                      "t": 100
                    },
                    "steps": [
                      {
                        "args": [
                          {
                            "visible": [
                              true,
                              false,
                              false,
                              false,
                              false,
                              false,
                              false
                            ]
                          },
                          {
                            "title": "Contributions to Principal Component: PC1"
                          }
                        ],
                        "label": "PC1",
                        "method": "update"
                      },
                      {
                        "args": [
                          {
                            "visible": [
                              false,
                              true,
                              false,
                              false,
                              false,
                              false,
                              false
                            ]
                          },
                          {
                            "title": "Contributions to Principal Component: PC2"
                          }
                        ],
                        "label": "PC2",
                        "method": "update"
                      },
                      {
                        "args": [
                          {
                            "visible": [
                              false,
                              false,
                              true,
                              false,
                              false,
                              false,
                              false
                            ]
                          },
                          {
                            "title": "Contributions to Principal Component: PC3"
                          }
                        ],
                        "label": "PC3",
                        "method": "update"
                      },
                      {
                        "args": [
                          {
                            "visible": [
                              false,
                              false,
                              false,
                              true,
                              false,
                              false,
                              false
                            ]
                          },
                          {
                            "title": "Contributions to Principal Component: PC4"
                          }
                        ],
                        "label": "PC4",
                        "method": "update"
                      },
                      {
                        "args": [
                          {
                            "visible": [
                              false,
                              false,
                              false,
                              false,
                              true,
                              false,
                              false
                            ]
                          },
                          {
                            "title": "Contributions to Principal Component: PC5"
                          }
                        ],
                        "label": "PC5",
                        "method": "update"
                      },
                      {
                        "args": [
                          {
                            "visible": [
                              false,
                              false,
                              false,
                              false,
                              false,
                              true,
                              false
                            ]
                          },
                          {
                            "title": "Contributions to Principal Component: PC6"
                          }
                        ],
                        "label": "PC6",
                        "method": "update"
                      },
                      {
                        "args": [
                          {
                            "visible": [
                              false,
                              false,
                              false,
                              false,
                              false,
                              false,
                              true
                            ]
                          },
                          {
                            "title": "Contributions to Principal Component: PC7"
                          }
                        ],
                        "label": "PC7",
                        "method": "update"
                      }
                    ]
                  }
                ],
                "template": {
                  "data": {
                    "bar": [
                      {
                        "error_x": {
                          "color": "#2a3f5f"
                        },
                        "error_y": {
                          "color": "#2a3f5f"
                        },
                        "marker": {
                          "line": {
                            "color": "#E5ECF6",
                            "width": 0.5
                          },
                          "pattern": {
                            "fillmode": "overlay",
                            "size": 10,
                            "solidity": 0.2
                          }
                        },
                        "type": "bar"
                      }
                    ],
                    "barpolar": [
                      {
                        "marker": {
                          "line": {
                            "color": "#E5ECF6",
                            "width": 0.5
                          },
                          "pattern": {
                            "fillmode": "overlay",
                            "size": 10,
                            "solidity": 0.2
                          }
                        },
                        "type": "barpolar"
                      }
                    ],
                    "carpet": [
                      {
                        "aaxis": {
                          "endlinecolor": "#2a3f5f",
                          "gridcolor": "white",
                          "linecolor": "white",
                          "minorgridcolor": "white",
                          "startlinecolor": "#2a3f5f"
                        },
                        "baxis": {
                          "endlinecolor": "#2a3f5f",
                          "gridcolor": "white",
                          "linecolor": "white",
                          "minorgridcolor": "white",
                          "startlinecolor": "#2a3f5f"
                        },
                        "type": "carpet"
                      }
                    ],
                    "choropleth": [
                      {
                        "colorbar": {
                          "outlinewidth": 0,
                          "ticks": ""
                        },
                        "type": "choropleth"
                      }
                    ],
                    "contour": [
                      {
                        "colorbar": {
                          "outlinewidth": 0,
                          "ticks": ""
                        },
                        "colorscale": [
                          [
                            0,
                            "#0d0887"
                          ],
                          [
                            0.1111111111111111,
                            "#46039f"
                          ],
                          [
                            0.2222222222222222,
                            "#7201a8"
                          ],
                          [
                            0.3333333333333333,
                            "#9c179e"
                          ],
                          [
                            0.4444444444444444,
                            "#bd3786"
                          ],
                          [
                            0.5555555555555556,
                            "#d8576b"
                          ],
                          [
                            0.6666666666666666,
                            "#ed7953"
                          ],
                          [
                            0.7777777777777778,
                            "#fb9f3a"
                          ],
                          [
                            0.8888888888888888,
                            "#fdca26"
                          ],
                          [
                            1,
                            "#f0f921"
                          ]
                        ],
                        "type": "contour"
                      }
                    ],
                    "contourcarpet": [
                      {
                        "colorbar": {
                          "outlinewidth": 0,
                          "ticks": ""
                        },
                        "type": "contourcarpet"
                      }
                    ],
                    "heatmap": [
                      {
                        "colorbar": {
                          "outlinewidth": 0,
                          "ticks": ""
                        },
                        "colorscale": [
                          [
                            0,
                            "#0d0887"
                          ],
                          [
                            0.1111111111111111,
                            "#46039f"
                          ],
                          [
                            0.2222222222222222,
                            "#7201a8"
                          ],
                          [
                            0.3333333333333333,
                            "#9c179e"
                          ],
                          [
                            0.4444444444444444,
                            "#bd3786"
                          ],
                          [
                            0.5555555555555556,
                            "#d8576b"
                          ],
                          [
                            0.6666666666666666,
                            "#ed7953"
                          ],
                          [
                            0.7777777777777778,
                            "#fb9f3a"
                          ],
                          [
                            0.8888888888888888,
                            "#fdca26"
                          ],
                          [
                            1,
                            "#f0f921"
                          ]
                        ],
                        "type": "heatmap"
                      }
                    ],
                    "heatmapgl": [
                      {
                        "colorbar": {
                          "outlinewidth": 0,
                          "ticks": ""
                        },
                        "colorscale": [
                          [
                            0,
                            "#0d0887"
                          ],
                          [
                            0.1111111111111111,
                            "#46039f"
                          ],
                          [
                            0.2222222222222222,
                            "#7201a8"
                          ],
                          [
                            0.3333333333333333,
                            "#9c179e"
                          ],
                          [
                            0.4444444444444444,
                            "#bd3786"
                          ],
                          [
                            0.5555555555555556,
                            "#d8576b"
                          ],
                          [
                            0.6666666666666666,
                            "#ed7953"
                          ],
                          [
                            0.7777777777777778,
                            "#fb9f3a"
                          ],
                          [
                            0.8888888888888888,
                            "#fdca26"
                          ],
                          [
                            1,
                            "#f0f921"
                          ]
                        ],
                        "type": "heatmapgl"
                      }
                    ],
                    "histogram": [
                      {
                        "marker": {
                          "pattern": {
                            "fillmode": "overlay",
                            "size": 10,
                            "solidity": 0.2
                          }
                        },
                        "type": "histogram"
                      }
                    ],
                    "histogram2d": [
                      {
                        "colorbar": {
                          "outlinewidth": 0,
                          "ticks": ""
                        },
                        "colorscale": [
                          [
                            0,
                            "#0d0887"
                          ],
                          [
                            0.1111111111111111,
                            "#46039f"
                          ],
                          [
                            0.2222222222222222,
                            "#7201a8"
                          ],
                          [
                            0.3333333333333333,
                            "#9c179e"
                          ],
                          [
                            0.4444444444444444,
                            "#bd3786"
                          ],
                          [
                            0.5555555555555556,
                            "#d8576b"
                          ],
                          [
                            0.6666666666666666,
                            "#ed7953"
                          ],
                          [
                            0.7777777777777778,
                            "#fb9f3a"
                          ],
                          [
                            0.8888888888888888,
                            "#fdca26"
                          ],
                          [
                            1,
                            "#f0f921"
                          ]
                        ],
                        "type": "histogram2d"
                      }
                    ],
                    "histogram2dcontour": [
                      {
                        "colorbar": {
                          "outlinewidth": 0,
                          "ticks": ""
                        },
                        "colorscale": [
                          [
                            0,
                            "#0d0887"
                          ],
                          [
                            0.1111111111111111,
                            "#46039f"
                          ],
                          [
                            0.2222222222222222,
                            "#7201a8"
                          ],
                          [
                            0.3333333333333333,
                            "#9c179e"
                          ],
                          [
                            0.4444444444444444,
                            "#bd3786"
                          ],
                          [
                            0.5555555555555556,
                            "#d8576b"
                          ],
                          [
                            0.6666666666666666,
                            "#ed7953"
                          ],
                          [
                            0.7777777777777778,
                            "#fb9f3a"
                          ],
                          [
                            0.8888888888888888,
                            "#fdca26"
                          ],
                          [
                            1,
                            "#f0f921"
                          ]
                        ],
                        "type": "histogram2dcontour"
                      }
                    ],
                    "mesh3d": [
                      {
                        "colorbar": {
                          "outlinewidth": 0,
                          "ticks": ""
                        },
                        "type": "mesh3d"
                      }
                    ],
                    "parcoords": [
                      {
                        "line": {
                          "colorbar": {
                            "outlinewidth": 0,
                            "ticks": ""
                          }
                        },
                        "type": "parcoords"
                      }
                    ],
                    "pie": [
                      {
                        "automargin": true,
                        "type": "pie"
                      }
                    ],
                    "scatter": [
                      {
                        "fillpattern": {
                          "fillmode": "overlay",
                          "size": 10,
                          "solidity": 0.2
                        },
                        "type": "scatter"
                      }
                    ],
                    "scatter3d": [
                      {
                        "line": {
                          "colorbar": {
                            "outlinewidth": 0,
                            "ticks": ""
                          }
                        },
                        "marker": {
                          "colorbar": {
                            "outlinewidth": 0,
                            "ticks": ""
                          }
                        },
                        "type": "scatter3d"
                      }
                    ],
                    "scattercarpet": [
                      {
                        "marker": {
                          "colorbar": {
                            "outlinewidth": 0,
                            "ticks": ""
                          }
                        },
                        "type": "scattercarpet"
                      }
                    ],
                    "scattergeo": [
                      {
                        "marker": {
                          "colorbar": {
                            "outlinewidth": 0,
                            "ticks": ""
                          }
                        },
                        "type": "scattergeo"
                      }
                    ],
                    "scattergl": [
                      {
                        "marker": {
                          "colorbar": {
                            "outlinewidth": 0,
                            "ticks": ""
                          }
                        },
                        "type": "scattergl"
                      }
                    ],
                    "scattermapbox": [
                      {
                        "marker": {
                          "colorbar": {
                            "outlinewidth": 0,
                            "ticks": ""
                          }
                        },
                        "type": "scattermapbox"
                      }
                    ],
                    "scatterpolar": [
                      {
                        "marker": {
                          "colorbar": {
                            "outlinewidth": 0,
                            "ticks": ""
                          }
                        },
                        "type": "scatterpolar"
                      }
                    ],
                    "scatterpolargl": [
                      {
                        "marker": {
                          "colorbar": {
                            "outlinewidth": 0,
                            "ticks": ""
                          }
                        },
                        "type": "scatterpolargl"
                      }
                    ],
                    "scatterternary": [
                      {
                        "marker": {
                          "colorbar": {
                            "outlinewidth": 0,
                            "ticks": ""
                          }
                        },
                        "type": "scatterternary"
                      }
                    ],
                    "surface": [
                      {
                        "colorbar": {
                          "outlinewidth": 0,
                          "ticks": ""
                        },
                        "colorscale": [
                          [
                            0,
                            "#0d0887"
                          ],
                          [
                            0.1111111111111111,
                            "#46039f"
                          ],
                          [
                            0.2222222222222222,
                            "#7201a8"
                          ],
                          [
                            0.3333333333333333,
                            "#9c179e"
                          ],
                          [
                            0.4444444444444444,
                            "#bd3786"
                          ],
                          [
                            0.5555555555555556,
                            "#d8576b"
                          ],
                          [
                            0.6666666666666666,
                            "#ed7953"
                          ],
                          [
                            0.7777777777777778,
                            "#fb9f3a"
                          ],
                          [
                            0.8888888888888888,
                            "#fdca26"
                          ],
                          [
                            1,
                            "#f0f921"
                          ]
                        ],
                        "type": "surface"
                      }
                    ],
                    "table": [
                      {
                        "cells": {
                          "fill": {
                            "color": "#EBF0F8"
                          },
                          "line": {
                            "color": "white"
                          }
                        },
                        "header": {
                          "fill": {
                            "color": "#C8D4E3"
                          },
                          "line": {
                            "color": "white"
                          }
                        },
                        "type": "table"
                      }
                    ]
                  },
                  "layout": {
                    "annotationdefaults": {
                      "arrowcolor": "#2a3f5f",
                      "arrowhead": 0,
                      "arrowwidth": 1
                    },
                    "autotypenumbers": "strict",
                    "coloraxis": {
                      "colorbar": {
                        "outlinewidth": 0,
                        "ticks": ""
                      }
                    },
                    "colorscale": {
                      "diverging": [
                        [
                          0,
                          "#8e0152"
                        ],
                        [
                          0.1,
                          "#c51b7d"
                        ],
                        [
                          0.2,
                          "#de77ae"
                        ],
                        [
                          0.3,
                          "#f1b6da"
                        ],
                        [
                          0.4,
                          "#fde0ef"
                        ],
                        [
                          0.5,
                          "#f7f7f7"
                        ],
                        [
                          0.6,
                          "#e6f5d0"
                        ],
                        [
                          0.7,
                          "#b8e186"
                        ],
                        [
                          0.8,
                          "#7fbc41"
                        ],
                        [
                          0.9,
                          "#4d9221"
                        ],
                        [
                          1,
                          "#276419"
                        ]
                      ],
                      "sequential": [
                        [
                          0,
                          "#0d0887"
                        ],
                        [
                          0.1111111111111111,
                          "#46039f"
                        ],
                        [
                          0.2222222222222222,
                          "#7201a8"
                        ],
                        [
                          0.3333333333333333,
                          "#9c179e"
                        ],
                        [
                          0.4444444444444444,
                          "#bd3786"
                        ],
                        [
                          0.5555555555555556,
                          "#d8576b"
                        ],
                        [
                          0.6666666666666666,
                          "#ed7953"
                        ],
                        [
                          0.7777777777777778,
                          "#fb9f3a"
                        ],
                        [
                          0.8888888888888888,
                          "#fdca26"
                        ],
                        [
                          1,
                          "#f0f921"
                        ]
                      ],
                      "sequentialminus": [
                        [
                          0,
                          "#0d0887"
                        ],
                        [
                          0.1111111111111111,
                          "#46039f"
                        ],
                        [
                          0.2222222222222222,
                          "#7201a8"
                        ],
                        [
                          0.3333333333333333,
                          "#9c179e"
                        ],
                        [
                          0.4444444444444444,
                          "#bd3786"
                        ],
                        [
                          0.5555555555555556,
                          "#d8576b"
                        ],
                        [
                          0.6666666666666666,
                          "#ed7953"
                        ],
                        [
                          0.7777777777777778,
                          "#fb9f3a"
                        ],
                        [
                          0.8888888888888888,
                          "#fdca26"
                        ],
                        [
                          1,
                          "#f0f921"
                        ]
                      ]
                    },
                    "colorway": [
                      "#636efa",
                      "#EF553B",
                      "#00cc96",
                      "#ab63fa",
                      "#FFA15A",
                      "#19d3f3",
                      "#FF6692",
                      "#B6E880",
                      "#FF97FF",
                      "#FECB52"
                    ],
                    "font": {
                      "color": "#2a3f5f"
                    },
                    "geo": {
                      "bgcolor": "white",
                      "lakecolor": "white",
                      "landcolor": "#E5ECF6",
                      "showlakes": true,
                      "showland": true,
                      "subunitcolor": "white"
                    },
                    "hoverlabel": {
                      "align": "left"
                    },
                    "hovermode": "closest",
                    "mapbox": {
                      "style": "light"
                    },
                    "paper_bgcolor": "white",
                    "plot_bgcolor": "#E5ECF6",
                    "polar": {
                      "angularaxis": {
                        "gridcolor": "white",
                        "linecolor": "white",
                        "ticks": ""
                      },
                      "bgcolor": "#E5ECF6",
                      "radialaxis": {
                        "gridcolor": "white",
                        "linecolor": "white",
                        "ticks": ""
                      }
                    },
                    "scene": {
                      "xaxis": {
                        "backgroundcolor": "#E5ECF6",
                        "gridcolor": "white",
                        "gridwidth": 2,
                        "linecolor": "white",
                        "showbackground": true,
                        "ticks": "",
                        "zerolinecolor": "white"
                      },
                      "yaxis": {
                        "backgroundcolor": "#E5ECF6",
                        "gridcolor": "white",
                        "gridwidth": 2,
                        "linecolor": "white",
                        "showbackground": true,
                        "ticks": "",
                        "zerolinecolor": "white"
                      },
                      "zaxis": {
                        "backgroundcolor": "#E5ECF6",
                        "gridcolor": "white",
                        "gridwidth": 2,
                        "linecolor": "white",
                        "showbackground": true,
                        "ticks": "",
                        "zerolinecolor": "white"
                      }
                    },
                    "shapedefaults": {
                      "line": {
                        "color": "#2a3f5f"
                      }
                    },
                    "ternary": {
                      "aaxis": {
                        "gridcolor": "white",
                        "linecolor": "white",
                        "ticks": ""
                      },
                      "baxis": {
                        "gridcolor": "white",
                        "linecolor": "white",
                        "ticks": ""
                      },
                      "bgcolor": "#E5ECF6",
                      "caxis": {
                        "gridcolor": "white",
                        "linecolor": "white",
                        "ticks": ""
                      }
                    },
                    "title": {
                      "x": 0.05
                    },
                    "xaxis": {
                      "automargin": true,
                      "gridcolor": "white",
                      "linecolor": "white",
                      "ticks": "",
                      "title": {
                        "standoff": 15
                      },
                      "zerolinecolor": "white",
                      "zerolinewidth": 2
                    },
                    "yaxis": {
                      "automargin": true,
                      "gridcolor": "white",
                      "linecolor": "white",
                      "ticks": "",
                      "title": {
                        "standoff": 15
                      },
                      "zerolinecolor": "white",
                      "zerolinewidth": 2
                    }
                  }
                },
                "title": {
                  "text": "Contributions by Percent to Principal Component: Mixed"
                },
                "xaxis": {
                  "title": {
                    "text": "Feature"
                  }
                },
                "yaxis": {
                  "title": {
                    "text": "Contribution"
                  }
                }
              }
            }
          },
          "metadata": {},
          "output_type": "display_data"
        }
      ],
      "source": [
        "# Contribution to each principal component\n",
        "num_components = len(pca.components_)\n",
        "\n",
        "# Convert to DataFrame for visualization\n",
        "contributions = pd.DataFrame(pca.components_.T, columns=[f'PC{i}' for i in range(1, num_components+1)], index=data.feature_names)\n",
        "\n",
        "# Calculate contributions as percentages\n",
        "contributions = pca.components_**2\n",
        "contributions /= contributions.sum(axis=1, keepdims=True)\n",
        "contributions *= 100  # Convert to percentage\n",
        "dfContributions = pd.DataFrame(contributions.T, columns=[f'PC{i}' for i in range(1, num_components+1)], index=data.feature_names)\n",
        "\n",
        "# Create and display interactive bar plot\n",
        "fig = go.Figure()\n",
        "\n",
        "# Add traces for each Principal Component\n",
        "for i, pc in enumerate(dfContributions.columns, start=1):\n",
        "    fig.add_trace(go.Bar(x=dfContributions.index, y=dfContributions[pc], name=pc))\n",
        "\n",
        "# Update layout with slider for interactivity\n",
        "steps = []\n",
        "for i, pc in enumerate(dfContributions.columns, start=1):\n",
        "    step = dict(\n",
        "        method=\"update\",\n",
        "        args=[{\"visible\": [el == pc for el in dfContributions.columns]},\n",
        "              {\"title\": f\"Contributions to Principal Component: {pc}\"}],\n",
        "        label=pc,\n",
        "    )\n",
        "    steps.append(step)\n",
        "\n",
        "# Create and add slider\n",
        "sliders = [dict(active=1, pad={\"t\": 100}, steps=steps)]\n",
        "fig.update_layout(sliders=sliders)\n",
        "\n",
        "# Set title and show plot\n",
        "fig.update_layout(title=\"Contributions by Percent to Principal Component: Mixed\", xaxis_title=\"Feature\", yaxis_title=\"Contribution\")\n",
        "fig.show()"
      ]
    },
    {
      "cell_type": "markdown",
      "metadata": {},
      "source": [
        "***\n",
        "\n",
        "## **5. Classification using Support Vector Machines (SVM)**\n",
        "\n",
        "### *5.1 ~ SVM with Reduced PCA Components*"
      ]
    },
    {
      "cell_type": "code",
      "execution_count": 8,
      "metadata": {},
      "outputs": [
        {
          "name": "stdout",
          "output_type": "stream",
          "text": [
            "0.9736842105263158\n",
            "              precision    recall  f1-score   support\n",
            "\n",
            "           0       0.98      0.95      0.96        43\n",
            "           1       0.97      0.99      0.98        71\n",
            "\n",
            "    accuracy                           0.97       114\n",
            "   macro avg       0.97      0.97      0.97       114\n",
            "weighted avg       0.97      0.97      0.97       114\n",
            "\n"
          ]
        }
      ],
      "source": [
        "# Split the data\n",
        "X_train, X_test, y_train, y_test = train_test_split(X_pca, y, test_size=0.2, random_state=42)\n",
        "\n",
        "# Train the SVM model\n",
        "model = SVC()\n",
        "model.fit(X_train, y_train)\n",
        "\n",
        "# Make predictions and evaluate the model\n",
        "y_pred = model.predict(X_test)\n",
        "print(accuracy_score(y_test, y_pred))\n",
        "print(classification_report(y_test, y_pred))"
      ]
    },
    {
      "cell_type": "markdown",
      "metadata": {},
      "source": [
        "### *5.2 ~ Visualization of SVM Decision Boundary in 2D*"
      ]
    },
    {
      "cell_type": "code",
      "execution_count": 9,
      "metadata": {},
      "outputs": [
        {
          "data": {
            "image/png": "[encoded data removed]",
            "text/plain": [
              "<Figure size 1000x700 with 1 Axes>"
            ]
          },
          "metadata": {},
          "output_type": "display_data"
        }
      ],
      "source": [
        "# Reduce to two dimensions for visualization\n",
        "pca_2 = PCA(n_components=2)\n",
        "X_pca_2 = pca_2.fit_transform(X_scaled)\n",
        "\n",
        "# Split the reduced dataset\n",
        "X_train_2, X_test_2, y_train_2, y_test_2 = train_test_split(X_pca_2, y, test_size=0.2, random_state=42)\n",
        "\n",
        "# Train a linear SVM on the reduced dataset\n",
        "model_2 = SVC(kernel='linear')\n",
        "model_2.fit(X_train_2, y_train_2)\n",
        "\n",
        "# Create grid for plotting decision boundaries and margins\n",
        "x_min, x_max = X_pca_2[:, 0].min() - 1, X_pca_2[:, 0].max() + 1\n",
        "y_min, y_max = X_pca_2[:, 1].min() - 1, X_pca_2[:, 1].max() + 1\n",
        "xx, yy = np.meshgrid(np.linspace(x_min, x_max, 100), np.linspace(y_min, y_max, 100))\n",
        "\n",
        "# Predict decision function on the grid\n",
        "Z = model_2.decision_function(np.c_[xx.ravel(), yy.ravel()])\n",
        "Z = Z.reshape(xx.shape)\n",
        "\n",
        "# Plot decision boundaries using Seaborn and Matplotlib\n",
        "plt.figure(figsize=(10, 7))\n",
        "sns.scatterplot(x=X_train_2[:, 0], y=X_train_2[:, 1], hue=y_train_2, palette=\"viridis\", edgecolor=\"k\")\n",
        "plt.contourf(xx, yy, Z, levels=[-1, 0, 1], alpha=0.2, colors=['red', 'blue', 'red'])\n",
        "plt.contour(xx, yy, Z, levels=[-1, 0, 1], colors='black')\n",
        "\n",
        "plt.title('SVM Decision Boundary and Margin with 2 Principal Components')\n",
        "plt.xlabel('Principal Component 1')\n",
        "plt.ylabel('Principal Component 2')\n",
        "plt.show()"
      ]
    },
    {
      "cell_type": "markdown",
      "metadata": {},
      "source": [
        "***\n",
        "\n",
        "## **6. Additional Analysis**\n",
        "\n",
        "### *6.1 ~ Cumulative Variance of the First Four Components*"
      ]
    },
    {
      "cell_type": "code",
      "execution_count": 10,
      "metadata": {},
      "outputs": [
        {
          "name": "stdout",
          "output_type": "stream",
          "text": [
            "Cumulative explained variance of the first four principal components: 0.7923850582446096\n"
          ]
        }
      ],
      "source": [
        "# Calculate and print cumulative explained variance of the first four components\n",
        "cumulative_variance_first_four = np.sum(pca.explained_variance_ratio_[:4])\n",
        "print(\"Cumulative explained variance of the first four principal components:\", cumulative_variance_first_four)"
      ]
    }
  ],
  "metadata": {
    "colab": {
      "provenance": []
    },
    "kernelspec": {
      "display_name": "Python 3",
      "name": "python3"
    },
    "language_info": {
      "codemirror_mode": {
        "name": "ipython",
        "version": 3
      },
      "file_extension": ".py",
      "mimetype": "text/x-python",
      "name": "python",
      "nbconvert_exporter": "python",
      "pygments_lexer": "ipython3",
      "version": "3.12.2"
    }
  },
  "nbformat": 4,
  "nbformat_minor": 0
}
